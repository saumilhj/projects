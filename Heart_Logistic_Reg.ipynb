{
  "nbformat": 4,
  "nbformat_minor": 0,
  "metadata": {
    "colab": {
      "provenance": [],
      "authorship_tag": "ABX9TyNKq/qRu6KFNCx3rXWm0VxT",
      "include_colab_link": true
    },
    "kernelspec": {
      "name": "python3",
      "display_name": "Python 3"
    },
    "language_info": {
      "name": "python"
    }
  },
  "cells": [
    {
      "cell_type": "markdown",
      "metadata": {
        "id": "view-in-github",
        "colab_type": "text"
      },
      "source": [
        "<a href=\"https://colab.research.google.com/github/saumilhj/projects/blob/main/Heart_Logistic_Reg.ipynb\" target=\"_parent\"><img src=\"https://colab.research.google.com/assets/colab-badge.svg\" alt=\"Open In Colab\"/></a>"
      ]
    },
    {
      "cell_type": "markdown",
      "source": [
        "**CHRONIC HEART DISEASE PREDICTION**"
      ],
      "metadata": {
        "id": "K5EXWrEixr-M"
      }
    },
    {
      "cell_type": "markdown",
      "source": [
        "Dataset from Kaggle: https://www.kaggle.com/datasets/dileep070/heart-disease-prediction-using-logistic-regression"
      ],
      "metadata": {
        "id": "c_Q3pkNzEmXl"
      }
    },
    {
      "cell_type": "code",
      "execution_count": null,
      "metadata": {
        "id": "QcHS2ralfamB"
      },
      "outputs": [],
      "source": [
        "import numpy as np\n",
        "import pandas as pd\n",
        "import plotly.express as px\n",
        "\n",
        "from sklearn.preprocessing import StandardScaler\n",
        "from sklearn.model_selection import train_test_split\n",
        "from sklearn.linear_model import LogisticRegression\n",
        "from sklearn.metrics import confusion_matrix, classification_report"
      ]
    },
    {
      "cell_type": "markdown",
      "source": [
        "##Import data"
      ],
      "metadata": {
        "id": "94r2XYrxfvS0"
      }
    },
    {
      "cell_type": "code",
      "source": [
        "df = pd.read_csv('HeartDisease.csv')"
      ],
      "metadata": {
        "id": "nY9HPALLfwnH"
      },
      "execution_count": null,
      "outputs": []
    },
    {
      "cell_type": "code",
      "source": [
        "df.info()"
      ],
      "metadata": {
        "id": "mX4Nm5RWvKvG",
        "colab": {
          "base_uri": "https://localhost:8080/"
        },
        "outputId": "48bb0004-6197-45af-9456-a008c92fd068"
      },
      "execution_count": null,
      "outputs": [
        {
          "output_type": "stream",
          "name": "stdout",
          "text": [
            "<class 'pandas.core.frame.DataFrame'>\n",
            "RangeIndex: 4238 entries, 0 to 4237\n",
            "Data columns (total 16 columns):\n",
            " #   Column           Non-Null Count  Dtype  \n",
            "---  ------           --------------  -----  \n",
            " 0   male             4238 non-null   int64  \n",
            " 1   age              4238 non-null   int64  \n",
            " 2   education        4133 non-null   float64\n",
            " 3   currentSmoker    4238 non-null   int64  \n",
            " 4   cigsPerDay       4209 non-null   float64\n",
            " 5   BPMeds           4185 non-null   float64\n",
            " 6   prevalentStroke  4238 non-null   int64  \n",
            " 7   prevalentHyp     4238 non-null   int64  \n",
            " 8   diabetes         4238 non-null   int64  \n",
            " 9   totChol          4188 non-null   float64\n",
            " 10  sysBP            4238 non-null   float64\n",
            " 11  diaBP            4238 non-null   float64\n",
            " 12  BMI              4219 non-null   float64\n",
            " 13  heartRate        4237 non-null   float64\n",
            " 14  glucose          3850 non-null   float64\n",
            " 15  TenYearCHD       4238 non-null   int64  \n",
            "dtypes: float64(9), int64(7)\n",
            "memory usage: 529.9 KB\n"
          ]
        }
      ]
    },
    {
      "cell_type": "code",
      "source": [
        "df.drop(columns=['education'], inplace=True)"
      ],
      "metadata": {
        "id": "jFcz5QGqwAY7"
      },
      "execution_count": null,
      "outputs": []
    },
    {
      "cell_type": "markdown",
      "source": [
        "##Check NaN"
      ],
      "metadata": {
        "id": "KLnN3Y0hvQ73"
      }
    },
    {
      "cell_type": "code",
      "source": [
        "df.isna().sum()"
      ],
      "metadata": {
        "id": "5OyjkeNVvTdr",
        "colab": {
          "base_uri": "https://localhost:8080/"
        },
        "outputId": "67f3b498-32b7-4b69-fb95-880252941045"
      },
      "execution_count": null,
      "outputs": [
        {
          "output_type": "execute_result",
          "data": {
            "text/plain": [
              "male                 0\n",
              "age                  0\n",
              "currentSmoker        0\n",
              "cigsPerDay          29\n",
              "BPMeds              53\n",
              "prevalentStroke      0\n",
              "prevalentHyp         0\n",
              "diabetes             0\n",
              "totChol             50\n",
              "sysBP                0\n",
              "diaBP                0\n",
              "BMI                 19\n",
              "heartRate            1\n",
              "glucose            388\n",
              "TenYearCHD           0\n",
              "dtype: int64"
            ]
          },
          "metadata": {},
          "execution_count": 5
        }
      ]
    },
    {
      "cell_type": "markdown",
      "source": [
        "###Fill NaN of cigsPerDay"
      ],
      "metadata": {
        "id": "rBtFH9_C3G52"
      }
    },
    {
      "cell_type": "code",
      "source": [
        "cig_mean = df['cigsPerDay'].mean()\n",
        "cig_median = df['cigsPerDay'].median()\n",
        "print(f'Mean of cigs:{cig_mean}')\n",
        "print(f'Median of cigs:{cig_median}')"
      ],
      "metadata": {
        "id": "RQUMibgD3Lbo",
        "colab": {
          "base_uri": "https://localhost:8080/"
        },
        "outputId": "2300e5e4-c8b6-4022-ef81-f6e3c34595eb"
      },
      "execution_count": null,
      "outputs": [
        {
          "output_type": "stream",
          "name": "stdout",
          "text": [
            "Mean of cigs:9.003088619624615\n",
            "Median of cigs:0.0\n"
          ]
        }
      ]
    },
    {
      "cell_type": "markdown",
      "source": [
        "cigsPerDay is skewed right"
      ],
      "metadata": {
        "id": "-6cfq1rp3qU_"
      }
    },
    {
      "cell_type": "code",
      "source": [
        "df['cigsPerDay'].fillna(cig_median, inplace=True)"
      ],
      "metadata": {
        "id": "u9cwpKfn31Wu"
      },
      "execution_count": null,
      "outputs": []
    },
    {
      "cell_type": "markdown",
      "source": [
        "###Fill NaN of BPMeds"
      ],
      "metadata": {
        "id": "9YYINN4V4OV8"
      }
    },
    {
      "cell_type": "code",
      "source": [
        "df['BPMeds'].sum()"
      ],
      "metadata": {
        "id": "g4HeTKnY4Q1u",
        "colab": {
          "base_uri": "https://localhost:8080/"
        },
        "outputId": "6b2714d1-7bb9-465d-e2a5-73812f7e562f"
      },
      "execution_count": null,
      "outputs": [
        {
          "output_type": "execute_result",
          "data": {
            "text/plain": [
              "124.0"
            ]
          },
          "metadata": {},
          "execution_count": 8
        }
      ]
    },
    {
      "cell_type": "markdown",
      "source": [
        "Only 124 of the total 4238 persons take BPMeds"
      ],
      "metadata": {
        "id": "lobUY5mp4qaW"
      }
    },
    {
      "cell_type": "code",
      "source": [
        "df['BPMeds'].fillna(0, inplace=True)"
      ],
      "metadata": {
        "id": "9MITBpfd40-z"
      },
      "execution_count": null,
      "outputs": []
    },
    {
      "cell_type": "markdown",
      "source": [
        "###Fill NaN of totalChol"
      ],
      "metadata": {
        "id": "khOG-JTk4_8i"
      }
    },
    {
      "cell_type": "code",
      "source": [
        "tc_mean = df['totChol'].mean()\n",
        "tc_median = df['totChol'].median()\n",
        "print(f'Mean of cholestrol:{tc_mean}')\n",
        "print(f'Median of cholestrol:{tc_median}')"
      ],
      "metadata": {
        "id": "HzbOaKk65Fxm",
        "colab": {
          "base_uri": "https://localhost:8080/"
        },
        "outputId": "e6fa9aae-1b1c-46ce-fb0e-5b00866d9558"
      },
      "execution_count": null,
      "outputs": [
        {
          "output_type": "stream",
          "name": "stdout",
          "text": [
            "Mean of cholestrol:236.72158548233045\n",
            "Median of cholestrol:234.0\n"
          ]
        }
      ]
    },
    {
      "cell_type": "markdown",
      "source": [
        "Mean and median of total cholestrol very close meaning data is symmetrical"
      ],
      "metadata": {
        "id": "9qINszhp5g8O"
      }
    },
    {
      "cell_type": "code",
      "source": [
        "df['totChol'].fillna(tc_mean, inplace=True)"
      ],
      "metadata": {
        "id": "TFRXD75q5qBE"
      },
      "execution_count": null,
      "outputs": []
    },
    {
      "cell_type": "markdown",
      "source": [
        "###Fill NaN of BMI"
      ],
      "metadata": {
        "id": "2gPEqpQ45620"
      }
    },
    {
      "cell_type": "code",
      "source": [
        "bmi_mean = df['BMI'].mean()\n",
        "bmi_median = df['BMI'].median()\n",
        "print(f'Mean of BMI:{bmi_mean}')\n",
        "print(f'Median of BMI:{bmi_median}')"
      ],
      "metadata": {
        "id": "CaUtjbYW6AkA",
        "colab": {
          "base_uri": "https://localhost:8080/"
        },
        "outputId": "fce5e8b5-4715-4cd3-92a8-fd4fb755409b"
      },
      "execution_count": null,
      "outputs": [
        {
          "output_type": "stream",
          "name": "stdout",
          "text": [
            "Mean of BMI:25.80200758473572\n",
            "Median of BMI:25.4\n"
          ]
        }
      ]
    },
    {
      "cell_type": "markdown",
      "source": [
        "Mean and median of BMI very close meaning data is symmetrical"
      ],
      "metadata": {
        "id": "rHkn_Bxh6coa"
      }
    },
    {
      "cell_type": "code",
      "source": [
        "df['BMI'].fillna(bmi_mean, inplace=True)"
      ],
      "metadata": {
        "id": "DQrvy4b16ex3"
      },
      "execution_count": null,
      "outputs": []
    },
    {
      "cell_type": "markdown",
      "source": [
        "###Fill NaN of heartRate"
      ],
      "metadata": {
        "id": "Wx0sJc1-64me"
      }
    },
    {
      "cell_type": "markdown",
      "source": [
        "Fill it with value of 72 BPM"
      ],
      "metadata": {
        "id": "N89QZbUI69Dm"
      }
    },
    {
      "cell_type": "code",
      "source": [
        "df['heartRate'].fillna(72, inplace=True)"
      ],
      "metadata": {
        "id": "wnDB9OEd68R1"
      },
      "execution_count": null,
      "outputs": []
    },
    {
      "cell_type": "markdown",
      "source": [
        "###Fill NaN of glucose"
      ],
      "metadata": {
        "id": "TA0nE7DRxdCv"
      }
    },
    {
      "cell_type": "code",
      "source": [
        "gl_mean = df['glucose'].mean()\n",
        "gl_median = df['glucose'].median()\n",
        "print(f'Mean of Glucose:{gl_mean}')\n",
        "print(f'Median of Glucose:{gl_median}')"
      ],
      "metadata": {
        "id": "rHg30pJl1uhq",
        "colab": {
          "base_uri": "https://localhost:8080/"
        },
        "outputId": "37b1fb34-76d7-4232-bf63-d96d066c22ee"
      },
      "execution_count": null,
      "outputs": [
        {
          "output_type": "stream",
          "name": "stdout",
          "text": [
            "Mean of Glucose:81.96675324675324\n",
            "Median of Glucose:78.0\n"
          ]
        }
      ]
    },
    {
      "cell_type": "markdown",
      "source": [
        "Mean and median values are very close meaning the data is symmetrically distributed"
      ],
      "metadata": {
        "id": "ZZWIrqWL2naa"
      }
    },
    {
      "cell_type": "code",
      "source": [
        "df['glucose'].fillna(gl_mean, inplace=True)"
      ],
      "metadata": {
        "id": "37XQkdXPx3dQ"
      },
      "execution_count": null,
      "outputs": []
    },
    {
      "cell_type": "markdown",
      "source": [
        "##Check duplicates"
      ],
      "metadata": {
        "id": "4C3e2bW-7wPR"
      }
    },
    {
      "cell_type": "code",
      "source": [
        "df.duplicated().sum()"
      ],
      "metadata": {
        "id": "xRhRNDNa7vqn",
        "colab": {
          "base_uri": "https://localhost:8080/"
        },
        "outputId": "0ab65d81-2d81-4b6b-bcaf-c3fd32ff9a5f"
      },
      "execution_count": null,
      "outputs": [
        {
          "output_type": "execute_result",
          "data": {
            "text/plain": [
              "0"
            ]
          },
          "metadata": {},
          "execution_count": 17
        }
      ]
    },
    {
      "cell_type": "markdown",
      "source": [
        "##Logistic Regression"
      ],
      "metadata": {
        "id": "Vvl4j9fp8AH7"
      }
    },
    {
      "cell_type": "code",
      "source": [
        "df.head()"
      ],
      "metadata": {
        "id": "VCOtlb6A8Hfw",
        "colab": {
          "base_uri": "https://localhost:8080/",
          "height": 206
        },
        "outputId": "23d52e8b-d7b4-40ec-83d5-b25126583c2d"
      },
      "execution_count": null,
      "outputs": [
        {
          "output_type": "execute_result",
          "data": {
            "text/plain": [
              "   male  age  currentSmoker  cigsPerDay  BPMeds  prevalentStroke  \\\n",
              "0     1   39              0         0.0     0.0                0   \n",
              "1     0   46              0         0.0     0.0                0   \n",
              "2     1   48              1        20.0     0.0                0   \n",
              "3     0   61              1        30.0     0.0                0   \n",
              "4     0   46              1        23.0     0.0                0   \n",
              "\n",
              "   prevalentHyp  diabetes  totChol  sysBP  diaBP    BMI  heartRate  glucose  \\\n",
              "0             0         0    195.0  106.0   70.0  26.97       80.0     77.0   \n",
              "1             0         0    250.0  121.0   81.0  28.73       95.0     76.0   \n",
              "2             0         0    245.0  127.5   80.0  25.34       75.0     70.0   \n",
              "3             1         0    225.0  150.0   95.0  28.58       65.0    103.0   \n",
              "4             0         0    285.0  130.0   84.0  23.10       85.0     85.0   \n",
              "\n",
              "   TenYearCHD  \n",
              "0           0  \n",
              "1           0  \n",
              "2           0  \n",
              "3           1  \n",
              "4           0  "
            ],
            "text/html": [
              "\n",
              "  <div id=\"df-456ed043-d46a-4d44-92b7-9b8bb4a1dca7\">\n",
              "    <div class=\"colab-df-container\">\n",
              "      <div>\n",
              "<style scoped>\n",
              "    .dataframe tbody tr th:only-of-type {\n",
              "        vertical-align: middle;\n",
              "    }\n",
              "\n",
              "    .dataframe tbody tr th {\n",
              "        vertical-align: top;\n",
              "    }\n",
              "\n",
              "    .dataframe thead th {\n",
              "        text-align: right;\n",
              "    }\n",
              "</style>\n",
              "<table border=\"1\" class=\"dataframe\">\n",
              "  <thead>\n",
              "    <tr style=\"text-align: right;\">\n",
              "      <th></th>\n",
              "      <th>male</th>\n",
              "      <th>age</th>\n",
              "      <th>currentSmoker</th>\n",
              "      <th>cigsPerDay</th>\n",
              "      <th>BPMeds</th>\n",
              "      <th>prevalentStroke</th>\n",
              "      <th>prevalentHyp</th>\n",
              "      <th>diabetes</th>\n",
              "      <th>totChol</th>\n",
              "      <th>sysBP</th>\n",
              "      <th>diaBP</th>\n",
              "      <th>BMI</th>\n",
              "      <th>heartRate</th>\n",
              "      <th>glucose</th>\n",
              "      <th>TenYearCHD</th>\n",
              "    </tr>\n",
              "  </thead>\n",
              "  <tbody>\n",
              "    <tr>\n",
              "      <th>0</th>\n",
              "      <td>1</td>\n",
              "      <td>39</td>\n",
              "      <td>0</td>\n",
              "      <td>0.0</td>\n",
              "      <td>0.0</td>\n",
              "      <td>0</td>\n",
              "      <td>0</td>\n",
              "      <td>0</td>\n",
              "      <td>195.0</td>\n",
              "      <td>106.0</td>\n",
              "      <td>70.0</td>\n",
              "      <td>26.97</td>\n",
              "      <td>80.0</td>\n",
              "      <td>77.0</td>\n",
              "      <td>0</td>\n",
              "    </tr>\n",
              "    <tr>\n",
              "      <th>1</th>\n",
              "      <td>0</td>\n",
              "      <td>46</td>\n",
              "      <td>0</td>\n",
              "      <td>0.0</td>\n",
              "      <td>0.0</td>\n",
              "      <td>0</td>\n",
              "      <td>0</td>\n",
              "      <td>0</td>\n",
              "      <td>250.0</td>\n",
              "      <td>121.0</td>\n",
              "      <td>81.0</td>\n",
              "      <td>28.73</td>\n",
              "      <td>95.0</td>\n",
              "      <td>76.0</td>\n",
              "      <td>0</td>\n",
              "    </tr>\n",
              "    <tr>\n",
              "      <th>2</th>\n",
              "      <td>1</td>\n",
              "      <td>48</td>\n",
              "      <td>1</td>\n",
              "      <td>20.0</td>\n",
              "      <td>0.0</td>\n",
              "      <td>0</td>\n",
              "      <td>0</td>\n",
              "      <td>0</td>\n",
              "      <td>245.0</td>\n",
              "      <td>127.5</td>\n",
              "      <td>80.0</td>\n",
              "      <td>25.34</td>\n",
              "      <td>75.0</td>\n",
              "      <td>70.0</td>\n",
              "      <td>0</td>\n",
              "    </tr>\n",
              "    <tr>\n",
              "      <th>3</th>\n",
              "      <td>0</td>\n",
              "      <td>61</td>\n",
              "      <td>1</td>\n",
              "      <td>30.0</td>\n",
              "      <td>0.0</td>\n",
              "      <td>0</td>\n",
              "      <td>1</td>\n",
              "      <td>0</td>\n",
              "      <td>225.0</td>\n",
              "      <td>150.0</td>\n",
              "      <td>95.0</td>\n",
              "      <td>28.58</td>\n",
              "      <td>65.0</td>\n",
              "      <td>103.0</td>\n",
              "      <td>1</td>\n",
              "    </tr>\n",
              "    <tr>\n",
              "      <th>4</th>\n",
              "      <td>0</td>\n",
              "      <td>46</td>\n",
              "      <td>1</td>\n",
              "      <td>23.0</td>\n",
              "      <td>0.0</td>\n",
              "      <td>0</td>\n",
              "      <td>0</td>\n",
              "      <td>0</td>\n",
              "      <td>285.0</td>\n",
              "      <td>130.0</td>\n",
              "      <td>84.0</td>\n",
              "      <td>23.10</td>\n",
              "      <td>85.0</td>\n",
              "      <td>85.0</td>\n",
              "      <td>0</td>\n",
              "    </tr>\n",
              "  </tbody>\n",
              "</table>\n",
              "</div>\n",
              "      <button class=\"colab-df-convert\" onclick=\"convertToInteractive('df-456ed043-d46a-4d44-92b7-9b8bb4a1dca7')\"\n",
              "              title=\"Convert this dataframe to an interactive table.\"\n",
              "              style=\"display:none;\">\n",
              "        \n",
              "  <svg xmlns=\"http://www.w3.org/2000/svg\" height=\"24px\"viewBox=\"0 0 24 24\"\n",
              "       width=\"24px\">\n",
              "    <path d=\"M0 0h24v24H0V0z\" fill=\"none\"/>\n",
              "    <path d=\"M18.56 5.44l.94 2.06.94-2.06 2.06-.94-2.06-.94-.94-2.06-.94 2.06-2.06.94zm-11 1L8.5 8.5l.94-2.06 2.06-.94-2.06-.94L8.5 2.5l-.94 2.06-2.06.94zm10 10l.94 2.06.94-2.06 2.06-.94-2.06-.94-.94-2.06-.94 2.06-2.06.94z\"/><path d=\"M17.41 7.96l-1.37-1.37c-.4-.4-.92-.59-1.43-.59-.52 0-1.04.2-1.43.59L10.3 9.45l-7.72 7.72c-.78.78-.78 2.05 0 2.83L4 21.41c.39.39.9.59 1.41.59.51 0 1.02-.2 1.41-.59l7.78-7.78 2.81-2.81c.8-.78.8-2.07 0-2.86zM5.41 20L4 18.59l7.72-7.72 1.47 1.35L5.41 20z\"/>\n",
              "  </svg>\n",
              "      </button>\n",
              "      \n",
              "  <style>\n",
              "    .colab-df-container {\n",
              "      display:flex;\n",
              "      flex-wrap:wrap;\n",
              "      gap: 12px;\n",
              "    }\n",
              "\n",
              "    .colab-df-convert {\n",
              "      background-color: #E8F0FE;\n",
              "      border: none;\n",
              "      border-radius: 50%;\n",
              "      cursor: pointer;\n",
              "      display: none;\n",
              "      fill: #1967D2;\n",
              "      height: 32px;\n",
              "      padding: 0 0 0 0;\n",
              "      width: 32px;\n",
              "    }\n",
              "\n",
              "    .colab-df-convert:hover {\n",
              "      background-color: #E2EBFA;\n",
              "      box-shadow: 0px 1px 2px rgba(60, 64, 67, 0.3), 0px 1px 3px 1px rgba(60, 64, 67, 0.15);\n",
              "      fill: #174EA6;\n",
              "    }\n",
              "\n",
              "    [theme=dark] .colab-df-convert {\n",
              "      background-color: #3B4455;\n",
              "      fill: #D2E3FC;\n",
              "    }\n",
              "\n",
              "    [theme=dark] .colab-df-convert:hover {\n",
              "      background-color: #434B5C;\n",
              "      box-shadow: 0px 1px 3px 1px rgba(0, 0, 0, 0.15);\n",
              "      filter: drop-shadow(0px 1px 2px rgba(0, 0, 0, 0.3));\n",
              "      fill: #FFFFFF;\n",
              "    }\n",
              "  </style>\n",
              "\n",
              "      <script>\n",
              "        const buttonEl =\n",
              "          document.querySelector('#df-456ed043-d46a-4d44-92b7-9b8bb4a1dca7 button.colab-df-convert');\n",
              "        buttonEl.style.display =\n",
              "          google.colab.kernel.accessAllowed ? 'block' : 'none';\n",
              "\n",
              "        async function convertToInteractive(key) {\n",
              "          const element = document.querySelector('#df-456ed043-d46a-4d44-92b7-9b8bb4a1dca7');\n",
              "          const dataTable =\n",
              "            await google.colab.kernel.invokeFunction('convertToInteractive',\n",
              "                                                     [key], {});\n",
              "          if (!dataTable) return;\n",
              "\n",
              "          const docLinkHtml = 'Like what you see? Visit the ' +\n",
              "            '<a target=\"_blank\" href=https://colab.research.google.com/notebooks/data_table.ipynb>data table notebook</a>'\n",
              "            + ' to learn more about interactive tables.';\n",
              "          element.innerHTML = '';\n",
              "          dataTable['output_type'] = 'display_data';\n",
              "          await google.colab.output.renderOutput(dataTable, element);\n",
              "          const docLink = document.createElement('div');\n",
              "          docLink.innerHTML = docLinkHtml;\n",
              "          element.appendChild(docLink);\n",
              "        }\n",
              "      </script>\n",
              "    </div>\n",
              "  </div>\n",
              "  "
            ]
          },
          "metadata": {},
          "execution_count": 18
        }
      ]
    },
    {
      "cell_type": "code",
      "source": [
        "# features\n",
        "X = df.drop(columns=['TenYearCHD'])\n",
        "y = df['TenYearCHD']"
      ],
      "metadata": {
        "id": "rmluFSeEtyMB"
      },
      "execution_count": null,
      "outputs": []
    },
    {
      "cell_type": "code",
      "source": [
        "# train test split\n",
        "X_train, X_test, y_train, y_test = train_test_split(X, y, test_size=0.2, random_state=150)"
      ],
      "metadata": {
        "id": "RbKQa_y_vMgM"
      },
      "execution_count": null,
      "outputs": []
    },
    {
      "cell_type": "markdown",
      "source": [
        "Scaling to give all variables equal weightage"
      ],
      "metadata": {
        "id": "RLVUNYfFxO5o"
      }
    },
    {
      "cell_type": "code",
      "source": [
        "scale = StandardScaler()\n",
        "X_train = scale.fit_transform(X_train)\n",
        "X_test = scale.fit_transform(X_test)"
      ],
      "metadata": {
        "id": "1Xw4XgbbwaHZ"
      },
      "execution_count": null,
      "outputs": []
    },
    {
      "cell_type": "code",
      "source": [
        "model = LogisticRegression()"
      ],
      "metadata": {
        "id": "E8YhGFHZxyAR"
      },
      "execution_count": null,
      "outputs": []
    },
    {
      "cell_type": "code",
      "source": [
        "model.fit(X_train, y_train)"
      ],
      "metadata": {
        "colab": {
          "base_uri": "https://localhost:8080/"
        },
        "id": "TlHZxISJx5Vz",
        "outputId": "a21d9ee6-1c14-4ec7-e15e-c3503bd7d0ef"
      },
      "execution_count": null,
      "outputs": [
        {
          "output_type": "execute_result",
          "data": {
            "text/plain": [
              "LogisticRegression()"
            ]
          },
          "metadata": {},
          "execution_count": 23
        }
      ]
    },
    {
      "cell_type": "code",
      "source": [
        "predict = model.predict(X_test)\n",
        "print(f\"Classification Report:\\n{classification_report(y_test, predict)}\")\n",
        "print(f\"Confusion Matrix:\\n{confusion_matrix(y_test, predict)}\")"
      ],
      "metadata": {
        "colab": {
          "base_uri": "https://localhost:8080/"
        },
        "id": "_5SnBPuByDLj",
        "outputId": "e7b55eed-122c-4c1b-e3aa-acba677333e4"
      },
      "execution_count": null,
      "outputs": [
        {
          "output_type": "stream",
          "name": "stdout",
          "text": [
            "Classification Report:\n",
            "              precision    recall  f1-score   support\n",
            "\n",
            "           0       0.86      0.99      0.92       716\n",
            "           1       0.75      0.09      0.16       132\n",
            "\n",
            "    accuracy                           0.85       848\n",
            "   macro avg       0.80      0.54      0.54       848\n",
            "weighted avg       0.84      0.85      0.80       848\n",
            "\n",
            "Confusion Matrix:\n",
            "[[712   4]\n",
            " [120  12]]\n"
          ]
        }
      ]
    }
  ]
}