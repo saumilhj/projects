{
  "nbformat": 4,
  "nbformat_minor": 0,
  "metadata": {
    "colab": {
      "provenance": [],
      "collapsed_sections": [],
      "authorship_tag": "ABX9TyM7CgYzskfKuNdSnm7CisRa"
    },
    "kernelspec": {
      "name": "python3",
      "display_name": "Python 3"
    },
    "language_info": {
      "name": "python"
    }
  },
  "cells": [
    {
      "cell_type": "markdown",
      "source": [
        "**Human Development Index**"
      ],
      "metadata": {
        "id": "X-44ea1_SQnv"
      }
    },
    {
      "cell_type": "code",
      "execution_count": null,
      "metadata": {
        "id": "COCI2uluSLqM"
      },
      "outputs": [],
      "source": [
        "%pip install pycountry_convert\n",
        "import numpy as np\n",
        "import pandas as pd\n",
        "import plotly.express as px\n",
        "import pycountry_convert as pycc"
      ]
    },
    {
      "cell_type": "markdown",
      "source": [
        "Import data"
      ],
      "metadata": {
        "id": "msfh939dVnvC"
      }
    },
    {
      "cell_type": "code",
      "source": [
        "df_hdi_full = pd.read_csv('HDI.csv')\n",
        "df_hdi_full.head(4)"
      ],
      "metadata": {
        "id": "WYvpLkGsVqWf"
      },
      "execution_count": null,
      "outputs": []
    },
    {
      "cell_type": "markdown",
      "source": [
        "All column headers"
      ],
      "metadata": {
        "id": "axUO_kgUWloo"
      }
    },
    {
      "cell_type": "code",
      "source": [
        "df_hdi_full.columns"
      ],
      "metadata": {
        "id": "GUSMH9UrXq81"
      },
      "execution_count": null,
      "outputs": []
    },
    {
      "cell_type": "markdown",
      "source": [
        "Check NaN"
      ],
      "metadata": {
        "id": "htiMtP6aYbnR"
      }
    },
    {
      "cell_type": "code",
      "source": [
        "df_hdi_full.isna().sum()"
      ],
      "metadata": {
        "id": "GGN30sjAYdiP"
      },
      "execution_count": null,
      "outputs": []
    },
    {
      "cell_type": "code",
      "source": [
        "df_hdi_full.drop(df_hdi_full[df_hdi_full['ISO3'].isna()].index, inplace=True)"
      ],
      "metadata": {
        "id": "t-Ob04kcZFJE"
      },
      "execution_count": 5,
      "outputs": []
    },
    {
      "cell_type": "markdown",
      "source": [
        "Remove countries that have all values as NaN"
      ],
      "metadata": {
        "id": "h1gHeAE8LBwm"
      }
    },
    {
      "cell_type": "code",
      "source": [
        "default_cols = list(df_hdi_full.columns)[1:]\n",
        "df_hdi_full.drop(df_hdi_full[df_hdi_full[default_cols].isna().all(axis=1)].index, inplace=True)\n",
        "df_hdi_full"
      ],
      "metadata": {
        "id": "Hw0Q9jAFKeGN"
      },
      "execution_count": null,
      "outputs": []
    },
    {
      "cell_type": "markdown",
      "source": [
        "Change alpha3 to alpha2 code for all countries"
      ],
      "metadata": {
        "id": "AJ8LliMsHHPe"
      }
    },
    {
      "cell_type": "code",
      "source": [
        "country_a3 = list(df_hdi_full['ISO3'])\n",
        "country_a2 = []\n",
        "for c in country_a3:\n",
        "  country_a2.append(pycc.country_alpha3_to_country_alpha2(c))\n",
        "df_hdi_full.rename(columns={'ISO3': 'ISO2'}, inplace=True)\n",
        "df_hdi_full['ISO2'] = country_a2\n",
        "df_hdi_full.head()"
      ],
      "metadata": {
        "id": "snJAlRmDEmFr"
      },
      "execution_count": null,
      "outputs": []
    },
    {
      "cell_type": "markdown",
      "source": [
        "Change column headers"
      ],
      "metadata": {
        "id": "l1IokwRZIaHS"
      }
    },
    {
      "cell_type": "code",
      "source": [
        "new_heads = [f'{i}' for i in range(1990,2022)]\n",
        "new_heads.insert(0, 'ISO2')\n",
        "df_hdi_full.columns = new_heads\n",
        "df_hdi_full.head()"
      ],
      "metadata": {
        "id": "bmdVZQ_Yp9rj"
      },
      "execution_count": null,
      "outputs": []
    },
    {
      "cell_type": "markdown",
      "source": [
        "New column for continents"
      ],
      "metadata": {
        "id": "XRfqcd5UJOPR"
      }
    },
    {
      "cell_type": "code",
      "source": [
        "continents = {\n",
        "    'NA': 'North America',\n",
        "    'SA': 'South America', \n",
        "    'AS': 'Asia',\n",
        "    'OC': 'Australia',\n",
        "    'AF': 'Africa',\n",
        "    'EU': 'Europe'\n",
        "}\n",
        "continent_list = []\n",
        "for c in country_a2:\n",
        "  try:\n",
        "    continent_code = pycc.country_alpha2_to_continent_code(c)\n",
        "  except:\n",
        "    continent_list.append('Unknown')\n",
        "  else:\n",
        "    continent_list.append(continents[continent_code])\n",
        "continent_list.count('Unknown')"
      ],
      "metadata": {
        "colab": {
          "base_uri": "https://localhost:8080/"
        },
        "id": "nCiY0ZPDHXmq",
        "outputId": "af0e4d65-ef19-43b5-ae5d-34f38e321226"
      },
      "execution_count": 9,
      "outputs": [
        {
          "output_type": "execute_result",
          "data": {
            "text/plain": [
              "1"
            ]
          },
          "metadata": {},
          "execution_count": 9
        }
      ]
    },
    {
      "cell_type": "code",
      "source": [
        "df_hdi_full['Continent'] = continent_list\n",
        "df_hdi_full.head()"
      ],
      "metadata": {
        "id": "LvlJje6HNqLd"
      },
      "execution_count": null,
      "outputs": []
    },
    {
      "cell_type": "code",
      "source": [
        "df_hdi_full = df_hdi_full[df_hdi_full['Continent'] != 'Unknown']\n",
        "df_hdi_full.head()"
      ],
      "metadata": {
        "id": "zIMGO2m6NgoN"
      },
      "execution_count": null,
      "outputs": []
    },
    {
      "cell_type": "markdown",
      "source": [
        "List of all unique continents"
      ],
      "metadata": {
        "id": "1NtgWQFtZxBH"
      }
    },
    {
      "cell_type": "code",
      "source": [
        "continent_in_df = list(df_hdi_full['Continent'].unique())"
      ],
      "metadata": {
        "id": "8feh9epEZYWX"
      },
      "execution_count": 12,
      "outputs": []
    },
    {
      "cell_type": "markdown",
      "source": [
        "Get average for each continent"
      ],
      "metadata": {
        "id": "YVXr2wbYPopw"
      }
    },
    {
      "cell_type": "code",
      "source": [
        "df_continent = df_hdi_full.groupby('Continent', as_index=False).mean()\n",
        "df_continent"
      ],
      "metadata": {
        "id": "2KS38EGEVRVM"
      },
      "execution_count": null,
      "outputs": []
    },
    {
      "cell_type": "markdown",
      "source": [
        "Plot HDI over all continents"
      ],
      "metadata": {
        "id": "r50T-6OcWDGE"
      }
    },
    {
      "cell_type": "code",
      "source": [
        "df_continent = df_continent.transpose()\n",
        "df_continent.columns = df_continent.iloc[0]\n",
        "df_continent.drop(df_continent.index[0], inplace=True)\n",
        "df_continent = df_continent.reset_index()\n",
        "df_continent.rename(columns={'index': 'Year'}, inplace=True)"
      ],
      "metadata": {
        "id": "S5e7EJBGWGt8"
      },
      "execution_count": 14,
      "outputs": []
    },
    {
      "cell_type": "code",
      "source": [
        "fig = px.line(df_continent, x='Year', y=continent_in_df, \n",
        "                 title='Average progression of HDI over different continents',\n",
        "                 labels={'value': 'HDI value', 'variable': 'Continents'})\n",
        "fig.show()"
      ],
      "metadata": {
        "id": "cmH1QB7XZ1oA"
      },
      "execution_count": null,
      "outputs": []
    }
  ]
}