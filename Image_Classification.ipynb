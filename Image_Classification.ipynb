{
  "nbformat": 4,
  "nbformat_minor": 0,
  "metadata": {
    "colab": {
      "provenance": [],
      "authorship_tag": "ABX9TyMfNVANEPPADGs302Hj7qAr",
      "include_colab_link": true
    },
    "kernelspec": {
      "name": "python3",
      "display_name": "Python 3"
    },
    "language_info": {
      "name": "python"
    }
  },
  "cells": [
    {
      "cell_type": "markdown",
      "metadata": {
        "id": "view-in-github",
        "colab_type": "text"
      },
      "source": [
        "<a href=\"https://colab.research.google.com/github/saumilhj/projects/blob/main/Image_Classification.ipynb\" target=\"_parent\"><img src=\"https://colab.research.google.com/assets/colab-badge.svg\" alt=\"Open In Colab\"/></a>"
      ]
    },
    {
      "cell_type": "markdown",
      "source": [
        "**IMAGE CLASSIFICATION (CHEETAH/LION)**"
      ],
      "metadata": {
        "id": "jcaCltkd-TCn"
      }
    },
    {
      "cell_type": "markdown",
      "source": [
        "Dataset from Kaggle: https://www.kaggle.com/datasets/gpiosenka/cats-in-the-wild-image-classification?resource=download"
      ],
      "metadata": {
        "id": "o6MiPCepAFkY"
      }
    },
    {
      "cell_type": "markdown",
      "source": [
        "I have taken only the cheetah and lion images for binary classification using an artificial neural network"
      ],
      "metadata": {
        "id": "F_2vkZMR5trj"
      }
    },
    {
      "cell_type": "markdown",
      "source": [
        "### Import libraries"
      ],
      "metadata": {
        "id": "zFFRN6oC59vn"
      }
    },
    {
      "cell_type": "code",
      "execution_count": 1,
      "metadata": {
        "id": "C8WAbmf1AClX"
      },
      "outputs": [],
      "source": [
        "import numpy as np\n",
        "import pandas as pd\n",
        "\n",
        "from PIL import Image\n",
        "\n",
        "from sklearn.model_selection import train_test_split\n",
        "\n",
        "import tensorflow as tf\n",
        "from tensorflow import keras"
      ]
    },
    {
      "cell_type": "markdown",
      "source": [
        "### Custom function"
      ],
      "metadata": {
        "id": "3y-1AV5W6IKk"
      }
    },
    {
      "cell_type": "markdown",
      "source": [
        "There are 228 cheetah and lion images and this function has been created to resize the images, convert them to grayscale and create a dataframe of grayscale pixel values"
      ],
      "metadata": {
        "id": "E_DcUfm66yrk"
      }
    },
    {
      "cell_type": "code",
      "source": [
        "def create_img_dataframe(df, folder, resize_tuple, max):  \n",
        "  # Tuple to resize\n",
        "  resize_dims = resize_tuple\n",
        "  for i in range(1,max+1):\n",
        "    # Open image with PIL for size and scale change\n",
        "    img = Image.open(f'{folder}/{i}.jpg')\n",
        "    img = img.resize(resize_dims)\n",
        "    img = img.convert('L')\n",
        "    # Convert image to array\n",
        "    img_array = np.array(img).flatten()\n",
        "    img_col = pd.Series(img_array)\n",
        "    df = pd.concat([df, img_col], axis=1, ignore_index=True)\n",
        "  # Transpose dataframe to get every row as pixel values\n",
        "  return df.transpose()"
      ],
      "metadata": {
        "id": "GMin9vccTvNg"
      },
      "execution_count": 2,
      "outputs": []
    },
    {
      "cell_type": "markdown",
      "source": [
        "### Making and combining dataframes"
      ],
      "metadata": {
        "id": "X4lnocGD7by3"
      }
    },
    {
      "cell_type": "code",
      "source": [
        "# Fix the image size needed in this tuple\n",
        "resizer = (64, 64)"
      ],
      "metadata": {
        "id": "cmiSwxRh979X"
      },
      "execution_count": 3,
      "outputs": []
    },
    {
      "cell_type": "code",
      "source": [
        "df_cheetah = pd.DataFrame()\n",
        "df_cheetah = create_img_dataframe(df_cheetah, folder='Cheetah', resize_tuple=resizer, max=228)\n",
        "df_cheetah = df_cheetah / 255\n",
        "df_cheetah['is_cheetah'] = 1"
      ],
      "metadata": {
        "id": "73U7DGm82pVo"
      },
      "execution_count": 4,
      "outputs": []
    },
    {
      "cell_type": "code",
      "source": [
        "df_lion = pd.DataFrame()\n",
        "df_lion = create_img_dataframe(df_lion, folder='Lion', resize_tuple=resizer, max=228)\n",
        "df_lion =  df_lion / 255\n",
        "df_lion['is_cheetah'] = 0"
      ],
      "metadata": {
        "id": "jJANTiBv4xOg"
      },
      "execution_count": 5,
      "outputs": []
    },
    {
      "cell_type": "code",
      "source": [
        "df_cheetah_lion = pd.concat([df_cheetah, df_lion], ignore_index=True)\n",
        "df_cheetah_lion.head()"
      ],
      "metadata": {
        "id": "dEOZUNcu9DKn",
        "colab": {
          "base_uri": "https://localhost:8080/",
          "height": 300
        },
        "outputId": "20ec8596-02eb-4422-f03c-c391edcab01e"
      },
      "execution_count": 6,
      "outputs": [
        {
          "output_type": "execute_result",
          "data": {
            "text/plain": [
              "          0         1         2         3         4         5         6  \\\n",
              "0  0.572549  0.549020  0.564706  0.560784  0.639216  0.635294  0.658824   \n",
              "1  0.666667  0.631373  0.592157  0.576471  0.639216  0.658824  0.603922   \n",
              "2  0.411765  0.286275  0.223529  0.196078  0.200000  0.239216  0.160784   \n",
              "3  0.101961  0.098039  0.152941  0.239216  0.141176  0.141176  0.149020   \n",
              "4  0.341176  0.282353  0.223529  0.396078  0.349020  0.188235  0.164706   \n",
              "\n",
              "          7         8         9  ...      4087      4088      4089      4090  \\\n",
              "0  0.580392  0.584314  0.639216  ...  0.294118  0.380392  0.435294  0.431373   \n",
              "1  0.580392  0.627451  0.654902  ...  0.780392  0.443137  0.423529  0.623529   \n",
              "2  0.141176  0.152941  0.149020  ...  0.298039  0.294118  0.266667  0.262745   \n",
              "3  0.164706  0.156863  0.145098  ...  0.607843  0.607843  0.662745  0.647059   \n",
              "4  0.325490  0.203922  0.349020  ...  0.733333  0.698039  0.733333  0.756863   \n",
              "\n",
              "       4091      4092      4093      4094      4095  is_cheetah  \n",
              "0  0.400000  0.478431  0.572549  0.611765  0.600000           1  \n",
              "1  0.600000  0.505882  0.552941  0.549020  0.529412           1  \n",
              "2  0.396078  0.415686  0.372549  0.349020  0.450980           1  \n",
              "3  0.631373  0.647059  0.627451  0.658824  0.654902           1  \n",
              "4  0.694118  0.658824  0.635294  0.658824  0.698039           1  \n",
              "\n",
              "[5 rows x 4097 columns]"
            ],
            "text/html": [
              "\n",
              "  <div id=\"df-b4d55021-733f-4a31-8da7-f99afb8184e4\">\n",
              "    <div class=\"colab-df-container\">\n",
              "      <div>\n",
              "<style scoped>\n",
              "    .dataframe tbody tr th:only-of-type {\n",
              "        vertical-align: middle;\n",
              "    }\n",
              "\n",
              "    .dataframe tbody tr th {\n",
              "        vertical-align: top;\n",
              "    }\n",
              "\n",
              "    .dataframe thead th {\n",
              "        text-align: right;\n",
              "    }\n",
              "</style>\n",
              "<table border=\"1\" class=\"dataframe\">\n",
              "  <thead>\n",
              "    <tr style=\"text-align: right;\">\n",
              "      <th></th>\n",
              "      <th>0</th>\n",
              "      <th>1</th>\n",
              "      <th>2</th>\n",
              "      <th>3</th>\n",
              "      <th>4</th>\n",
              "      <th>5</th>\n",
              "      <th>6</th>\n",
              "      <th>7</th>\n",
              "      <th>8</th>\n",
              "      <th>9</th>\n",
              "      <th>...</th>\n",
              "      <th>4087</th>\n",
              "      <th>4088</th>\n",
              "      <th>4089</th>\n",
              "      <th>4090</th>\n",
              "      <th>4091</th>\n",
              "      <th>4092</th>\n",
              "      <th>4093</th>\n",
              "      <th>4094</th>\n",
              "      <th>4095</th>\n",
              "      <th>is_cheetah</th>\n",
              "    </tr>\n",
              "  </thead>\n",
              "  <tbody>\n",
              "    <tr>\n",
              "      <th>0</th>\n",
              "      <td>0.572549</td>\n",
              "      <td>0.549020</td>\n",
              "      <td>0.564706</td>\n",
              "      <td>0.560784</td>\n",
              "      <td>0.639216</td>\n",
              "      <td>0.635294</td>\n",
              "      <td>0.658824</td>\n",
              "      <td>0.580392</td>\n",
              "      <td>0.584314</td>\n",
              "      <td>0.639216</td>\n",
              "      <td>...</td>\n",
              "      <td>0.294118</td>\n",
              "      <td>0.380392</td>\n",
              "      <td>0.435294</td>\n",
              "      <td>0.431373</td>\n",
              "      <td>0.400000</td>\n",
              "      <td>0.478431</td>\n",
              "      <td>0.572549</td>\n",
              "      <td>0.611765</td>\n",
              "      <td>0.600000</td>\n",
              "      <td>1</td>\n",
              "    </tr>\n",
              "    <tr>\n",
              "      <th>1</th>\n",
              "      <td>0.666667</td>\n",
              "      <td>0.631373</td>\n",
              "      <td>0.592157</td>\n",
              "      <td>0.576471</td>\n",
              "      <td>0.639216</td>\n",
              "      <td>0.658824</td>\n",
              "      <td>0.603922</td>\n",
              "      <td>0.580392</td>\n",
              "      <td>0.627451</td>\n",
              "      <td>0.654902</td>\n",
              "      <td>...</td>\n",
              "      <td>0.780392</td>\n",
              "      <td>0.443137</td>\n",
              "      <td>0.423529</td>\n",
              "      <td>0.623529</td>\n",
              "      <td>0.600000</td>\n",
              "      <td>0.505882</td>\n",
              "      <td>0.552941</td>\n",
              "      <td>0.549020</td>\n",
              "      <td>0.529412</td>\n",
              "      <td>1</td>\n",
              "    </tr>\n",
              "    <tr>\n",
              "      <th>2</th>\n",
              "      <td>0.411765</td>\n",
              "      <td>0.286275</td>\n",
              "      <td>0.223529</td>\n",
              "      <td>0.196078</td>\n",
              "      <td>0.200000</td>\n",
              "      <td>0.239216</td>\n",
              "      <td>0.160784</td>\n",
              "      <td>0.141176</td>\n",
              "      <td>0.152941</td>\n",
              "      <td>0.149020</td>\n",
              "      <td>...</td>\n",
              "      <td>0.298039</td>\n",
              "      <td>0.294118</td>\n",
              "      <td>0.266667</td>\n",
              "      <td>0.262745</td>\n",
              "      <td>0.396078</td>\n",
              "      <td>0.415686</td>\n",
              "      <td>0.372549</td>\n",
              "      <td>0.349020</td>\n",
              "      <td>0.450980</td>\n",
              "      <td>1</td>\n",
              "    </tr>\n",
              "    <tr>\n",
              "      <th>3</th>\n",
              "      <td>0.101961</td>\n",
              "      <td>0.098039</td>\n",
              "      <td>0.152941</td>\n",
              "      <td>0.239216</td>\n",
              "      <td>0.141176</td>\n",
              "      <td>0.141176</td>\n",
              "      <td>0.149020</td>\n",
              "      <td>0.164706</td>\n",
              "      <td>0.156863</td>\n",
              "      <td>0.145098</td>\n",
              "      <td>...</td>\n",
              "      <td>0.607843</td>\n",
              "      <td>0.607843</td>\n",
              "      <td>0.662745</td>\n",
              "      <td>0.647059</td>\n",
              "      <td>0.631373</td>\n",
              "      <td>0.647059</td>\n",
              "      <td>0.627451</td>\n",
              "      <td>0.658824</td>\n",
              "      <td>0.654902</td>\n",
              "      <td>1</td>\n",
              "    </tr>\n",
              "    <tr>\n",
              "      <th>4</th>\n",
              "      <td>0.341176</td>\n",
              "      <td>0.282353</td>\n",
              "      <td>0.223529</td>\n",
              "      <td>0.396078</td>\n",
              "      <td>0.349020</td>\n",
              "      <td>0.188235</td>\n",
              "      <td>0.164706</td>\n",
              "      <td>0.325490</td>\n",
              "      <td>0.203922</td>\n",
              "      <td>0.349020</td>\n",
              "      <td>...</td>\n",
              "      <td>0.733333</td>\n",
              "      <td>0.698039</td>\n",
              "      <td>0.733333</td>\n",
              "      <td>0.756863</td>\n",
              "      <td>0.694118</td>\n",
              "      <td>0.658824</td>\n",
              "      <td>0.635294</td>\n",
              "      <td>0.658824</td>\n",
              "      <td>0.698039</td>\n",
              "      <td>1</td>\n",
              "    </tr>\n",
              "  </tbody>\n",
              "</table>\n",
              "<p>5 rows × 4097 columns</p>\n",
              "</div>\n",
              "      <button class=\"colab-df-convert\" onclick=\"convertToInteractive('df-b4d55021-733f-4a31-8da7-f99afb8184e4')\"\n",
              "              title=\"Convert this dataframe to an interactive table.\"\n",
              "              style=\"display:none;\">\n",
              "        \n",
              "  <svg xmlns=\"http://www.w3.org/2000/svg\" height=\"24px\"viewBox=\"0 0 24 24\"\n",
              "       width=\"24px\">\n",
              "    <path d=\"M0 0h24v24H0V0z\" fill=\"none\"/>\n",
              "    <path d=\"M18.56 5.44l.94 2.06.94-2.06 2.06-.94-2.06-.94-.94-2.06-.94 2.06-2.06.94zm-11 1L8.5 8.5l.94-2.06 2.06-.94-2.06-.94L8.5 2.5l-.94 2.06-2.06.94zm10 10l.94 2.06.94-2.06 2.06-.94-2.06-.94-.94-2.06-.94 2.06-2.06.94z\"/><path d=\"M17.41 7.96l-1.37-1.37c-.4-.4-.92-.59-1.43-.59-.52 0-1.04.2-1.43.59L10.3 9.45l-7.72 7.72c-.78.78-.78 2.05 0 2.83L4 21.41c.39.39.9.59 1.41.59.51 0 1.02-.2 1.41-.59l7.78-7.78 2.81-2.81c.8-.78.8-2.07 0-2.86zM5.41 20L4 18.59l7.72-7.72 1.47 1.35L5.41 20z\"/>\n",
              "  </svg>\n",
              "      </button>\n",
              "      \n",
              "  <style>\n",
              "    .colab-df-container {\n",
              "      display:flex;\n",
              "      flex-wrap:wrap;\n",
              "      gap: 12px;\n",
              "    }\n",
              "\n",
              "    .colab-df-convert {\n",
              "      background-color: #E8F0FE;\n",
              "      border: none;\n",
              "      border-radius: 50%;\n",
              "      cursor: pointer;\n",
              "      display: none;\n",
              "      fill: #1967D2;\n",
              "      height: 32px;\n",
              "      padding: 0 0 0 0;\n",
              "      width: 32px;\n",
              "    }\n",
              "\n",
              "    .colab-df-convert:hover {\n",
              "      background-color: #E2EBFA;\n",
              "      box-shadow: 0px 1px 2px rgba(60, 64, 67, 0.3), 0px 1px 3px 1px rgba(60, 64, 67, 0.15);\n",
              "      fill: #174EA6;\n",
              "    }\n",
              "\n",
              "    [theme=dark] .colab-df-convert {\n",
              "      background-color: #3B4455;\n",
              "      fill: #D2E3FC;\n",
              "    }\n",
              "\n",
              "    [theme=dark] .colab-df-convert:hover {\n",
              "      background-color: #434B5C;\n",
              "      box-shadow: 0px 1px 3px 1px rgba(0, 0, 0, 0.15);\n",
              "      filter: drop-shadow(0px 1px 2px rgba(0, 0, 0, 0.3));\n",
              "      fill: #FFFFFF;\n",
              "    }\n",
              "  </style>\n",
              "\n",
              "      <script>\n",
              "        const buttonEl =\n",
              "          document.querySelector('#df-b4d55021-733f-4a31-8da7-f99afb8184e4 button.colab-df-convert');\n",
              "        buttonEl.style.display =\n",
              "          google.colab.kernel.accessAllowed ? 'block' : 'none';\n",
              "\n",
              "        async function convertToInteractive(key) {\n",
              "          const element = document.querySelector('#df-b4d55021-733f-4a31-8da7-f99afb8184e4');\n",
              "          const dataTable =\n",
              "            await google.colab.kernel.invokeFunction('convertToInteractive',\n",
              "                                                     [key], {});\n",
              "          if (!dataTable) return;\n",
              "\n",
              "          const docLinkHtml = 'Like what you see? Visit the ' +\n",
              "            '<a target=\"_blank\" href=https://colab.research.google.com/notebooks/data_table.ipynb>data table notebook</a>'\n",
              "            + ' to learn more about interactive tables.';\n",
              "          element.innerHTML = '';\n",
              "          dataTable['output_type'] = 'display_data';\n",
              "          await google.colab.output.renderOutput(dataTable, element);\n",
              "          const docLink = document.createElement('div');\n",
              "          docLink.innerHTML = docLinkHtml;\n",
              "          element.appendChild(docLink);\n",
              "        }\n",
              "      </script>\n",
              "    </div>\n",
              "  </div>\n",
              "  "
            ]
          },
          "metadata": {},
          "execution_count": 6
        }
      ]
    },
    {
      "cell_type": "markdown",
      "source": [
        "### Artificial Neural Network"
      ],
      "metadata": {
        "id": "W_oIi-fc9ieX"
      }
    },
    {
      "cell_type": "code",
      "source": [
        "X = df_cheetah_lion.drop(columns=['is_cheetah'])\n",
        "y = df_cheetah_lion['is_cheetah']\n",
        "# train and validation split\n",
        "X_train, X_val, y_train, y_val = train_test_split(X, y, test_size=0.1, stratify=y, random_state=20)"
      ],
      "metadata": {
        "id": "gwEibYdS911_"
      },
      "execution_count": 7,
      "outputs": []
    },
    {
      "cell_type": "code",
      "source": [
        "# Early stopping\n",
        "early_stop = keras.callbacks.EarlyStopping(min_delta=0.001, patience=20, restore_best_weights=True)\n",
        "\n",
        "# Tensorflow model\n",
        "model = keras.Sequential([\n",
        "    keras.layers.Dense(64, input_shape=[4096], activation='relu'),\n",
        "    keras.layers.Dense(64, activation='relu'),\n",
        "    keras.layers.Dense(1, activation='sigmoid'),\n",
        "])\n",
        "model.compile(optimizer=keras.optimizers.Adam(learning_rate=0.00005), loss=keras.losses.BinaryCrossentropy(), metrics=['binary_accuracy'])\n",
        "history = model.fit(X_train, y_train, validation_data=(X_val, y_val), batch_size=32, epochs=500, callbacks=[early_stop])"
      ],
      "metadata": {
        "id": "rXLt6TVXm9Bs",
        "colab": {
          "base_uri": "https://localhost:8080/"
        },
        "outputId": "ae01ba0f-435d-4e4a-ee39-c49a99dfb97c"
      },
      "execution_count": 8,
      "outputs": [
        {
          "output_type": "stream",
          "name": "stdout",
          "text": [
            "Epoch 1/500\n",
            "13/13 [==============================] - 1s 26ms/step - loss: 0.6915 - binary_accuracy: 0.5073 - val_loss: 0.6848 - val_binary_accuracy: 0.5435\n",
            "Epoch 2/500\n",
            "13/13 [==============================] - 0s 10ms/step - loss: 0.6769 - binary_accuracy: 0.5805 - val_loss: 0.6791 - val_binary_accuracy: 0.6304\n",
            "Epoch 3/500\n",
            "13/13 [==============================] - 0s 8ms/step - loss: 0.6652 - binary_accuracy: 0.6122 - val_loss: 0.6725 - val_binary_accuracy: 0.5870\n",
            "Epoch 4/500\n",
            "13/13 [==============================] - 0s 8ms/step - loss: 0.6584 - binary_accuracy: 0.6537 - val_loss: 0.6646 - val_binary_accuracy: 0.5652\n",
            "Epoch 5/500\n",
            "13/13 [==============================] - 0s 9ms/step - loss: 0.6558 - binary_accuracy: 0.6195 - val_loss: 0.6784 - val_binary_accuracy: 0.4783\n",
            "Epoch 6/500\n",
            "13/13 [==============================] - 0s 20ms/step - loss: 0.6557 - binary_accuracy: 0.6073 - val_loss: 0.6615 - val_binary_accuracy: 0.6304\n",
            "Epoch 7/500\n",
            "13/13 [==============================] - 0s 23ms/step - loss: 0.6428 - binary_accuracy: 0.6390 - val_loss: 0.6663 - val_binary_accuracy: 0.6087\n",
            "Epoch 8/500\n",
            "13/13 [==============================] - 0s 25ms/step - loss: 0.6376 - binary_accuracy: 0.6854 - val_loss: 0.6537 - val_binary_accuracy: 0.6522\n",
            "Epoch 9/500\n",
            "13/13 [==============================] - 0s 21ms/step - loss: 0.6326 - binary_accuracy: 0.6854 - val_loss: 0.6507 - val_binary_accuracy: 0.6304\n",
            "Epoch 10/500\n",
            "13/13 [==============================] - 0s 22ms/step - loss: 0.6304 - binary_accuracy: 0.6927 - val_loss: 0.6459 - val_binary_accuracy: 0.6304\n",
            "Epoch 11/500\n",
            "13/13 [==============================] - 0s 21ms/step - loss: 0.6257 - binary_accuracy: 0.6854 - val_loss: 0.6434 - val_binary_accuracy: 0.6522\n",
            "Epoch 12/500\n",
            "13/13 [==============================] - 0s 20ms/step - loss: 0.6210 - binary_accuracy: 0.6902 - val_loss: 0.6465 - val_binary_accuracy: 0.6304\n",
            "Epoch 13/500\n",
            "13/13 [==============================] - 0s 25ms/step - loss: 0.6135 - binary_accuracy: 0.6927 - val_loss: 0.6376 - val_binary_accuracy: 0.6087\n",
            "Epoch 14/500\n",
            "13/13 [==============================] - 0s 25ms/step - loss: 0.6093 - binary_accuracy: 0.6951 - val_loss: 0.6323 - val_binary_accuracy: 0.6739\n",
            "Epoch 15/500\n",
            "13/13 [==============================] - 0s 32ms/step - loss: 0.6025 - binary_accuracy: 0.7024 - val_loss: 0.6350 - val_binary_accuracy: 0.6522\n",
            "Epoch 16/500\n",
            "13/13 [==============================] - 0s 24ms/step - loss: 0.5973 - binary_accuracy: 0.7171 - val_loss: 0.6282 - val_binary_accuracy: 0.6522\n",
            "Epoch 17/500\n",
            "13/13 [==============================] - 0s 15ms/step - loss: 0.5896 - binary_accuracy: 0.7341 - val_loss: 0.6222 - val_binary_accuracy: 0.6957\n",
            "Epoch 18/500\n",
            "13/13 [==============================] - 0s 16ms/step - loss: 0.5877 - binary_accuracy: 0.7146 - val_loss: 0.6228 - val_binary_accuracy: 0.6522\n",
            "Epoch 19/500\n",
            "13/13 [==============================] - 0s 18ms/step - loss: 0.5797 - binary_accuracy: 0.7220 - val_loss: 0.6216 - val_binary_accuracy: 0.6522\n",
            "Epoch 20/500\n",
            "13/13 [==============================] - 0s 18ms/step - loss: 0.5753 - binary_accuracy: 0.7268 - val_loss: 0.6163 - val_binary_accuracy: 0.6739\n",
            "Epoch 21/500\n",
            "13/13 [==============================] - 0s 19ms/step - loss: 0.5716 - binary_accuracy: 0.7293 - val_loss: 0.6124 - val_binary_accuracy: 0.6522\n",
            "Epoch 22/500\n",
            "13/13 [==============================] - 0s 17ms/step - loss: 0.5659 - binary_accuracy: 0.7463 - val_loss: 0.6082 - val_binary_accuracy: 0.6739\n",
            "Epoch 23/500\n",
            "13/13 [==============================] - 0s 13ms/step - loss: 0.5725 - binary_accuracy: 0.7317 - val_loss: 0.6081 - val_binary_accuracy: 0.6739\n",
            "Epoch 24/500\n",
            "13/13 [==============================] - 0s 13ms/step - loss: 0.5671 - binary_accuracy: 0.7146 - val_loss: 0.6170 - val_binary_accuracy: 0.6739\n",
            "Epoch 25/500\n",
            "13/13 [==============================] - 0s 17ms/step - loss: 0.5560 - binary_accuracy: 0.7634 - val_loss: 0.6076 - val_binary_accuracy: 0.6739\n",
            "Epoch 26/500\n",
            "13/13 [==============================] - 0s 13ms/step - loss: 0.5556 - binary_accuracy: 0.7390 - val_loss: 0.6032 - val_binary_accuracy: 0.6522\n",
            "Epoch 27/500\n",
            "13/13 [==============================] - 0s 12ms/step - loss: 0.5627 - binary_accuracy: 0.7244 - val_loss: 0.6293 - val_binary_accuracy: 0.6522\n",
            "Epoch 28/500\n",
            "13/13 [==============================] - 0s 12ms/step - loss: 0.5505 - binary_accuracy: 0.7707 - val_loss: 0.5992 - val_binary_accuracy: 0.6957\n",
            "Epoch 29/500\n",
            "13/13 [==============================] - 0s 17ms/step - loss: 0.5397 - binary_accuracy: 0.7439 - val_loss: 0.5921 - val_binary_accuracy: 0.6522\n",
            "Epoch 30/500\n",
            "13/13 [==============================] - 0s 15ms/step - loss: 0.5391 - binary_accuracy: 0.7561 - val_loss: 0.6108 - val_binary_accuracy: 0.7174\n",
            "Epoch 31/500\n",
            "13/13 [==============================] - 0s 12ms/step - loss: 0.5444 - binary_accuracy: 0.7634 - val_loss: 0.5938 - val_binary_accuracy: 0.6522\n",
            "Epoch 32/500\n",
            "13/13 [==============================] - 0s 18ms/step - loss: 0.5405 - binary_accuracy: 0.7488 - val_loss: 0.5858 - val_binary_accuracy: 0.6957\n",
            "Epoch 33/500\n",
            "13/13 [==============================] - 0s 11ms/step - loss: 0.5263 - binary_accuracy: 0.7634 - val_loss: 0.6040 - val_binary_accuracy: 0.6522\n",
            "Epoch 34/500\n",
            "13/13 [==============================] - 0s 13ms/step - loss: 0.5209 - binary_accuracy: 0.7610 - val_loss: 0.5906 - val_binary_accuracy: 0.6522\n",
            "Epoch 35/500\n",
            "13/13 [==============================] - 0s 19ms/step - loss: 0.5183 - binary_accuracy: 0.7951 - val_loss: 0.5772 - val_binary_accuracy: 0.6957\n",
            "Epoch 36/500\n",
            "13/13 [==============================] - 0s 18ms/step - loss: 0.5111 - binary_accuracy: 0.7780 - val_loss: 0.5940 - val_binary_accuracy: 0.7174\n",
            "Epoch 37/500\n",
            "13/13 [==============================] - 0s 19ms/step - loss: 0.5137 - binary_accuracy: 0.7659 - val_loss: 0.5758 - val_binary_accuracy: 0.6957\n",
            "Epoch 38/500\n",
            "13/13 [==============================] - 0s 13ms/step - loss: 0.5018 - binary_accuracy: 0.7854 - val_loss: 0.5712 - val_binary_accuracy: 0.6957\n",
            "Epoch 39/500\n",
            "13/13 [==============================] - 0s 16ms/step - loss: 0.4978 - binary_accuracy: 0.7756 - val_loss: 0.5715 - val_binary_accuracy: 0.6957\n",
            "Epoch 40/500\n",
            "13/13 [==============================] - 0s 20ms/step - loss: 0.4963 - binary_accuracy: 0.8073 - val_loss: 0.5687 - val_binary_accuracy: 0.6957\n",
            "Epoch 41/500\n",
            "13/13 [==============================] - 0s 13ms/step - loss: 0.4915 - binary_accuracy: 0.7878 - val_loss: 0.5992 - val_binary_accuracy: 0.6957\n",
            "Epoch 42/500\n",
            "13/13 [==============================] - 0s 20ms/step - loss: 0.4888 - binary_accuracy: 0.7902 - val_loss: 0.5663 - val_binary_accuracy: 0.6957\n",
            "Epoch 43/500\n",
            "13/13 [==============================] - 0s 18ms/step - loss: 0.4869 - binary_accuracy: 0.7951 - val_loss: 0.5881 - val_binary_accuracy: 0.7174\n",
            "Epoch 44/500\n",
            "13/13 [==============================] - 0s 17ms/step - loss: 0.4897 - binary_accuracy: 0.7780 - val_loss: 0.5603 - val_binary_accuracy: 0.7174\n",
            "Epoch 45/500\n",
            "13/13 [==============================] - 0s 13ms/step - loss: 0.4758 - binary_accuracy: 0.7951 - val_loss: 0.5603 - val_binary_accuracy: 0.6957\n",
            "Epoch 46/500\n",
            "13/13 [==============================] - 0s 16ms/step - loss: 0.4712 - binary_accuracy: 0.8024 - val_loss: 0.5580 - val_binary_accuracy: 0.7174\n",
            "Epoch 47/500\n",
            "13/13 [==============================] - 0s 16ms/step - loss: 0.4714 - binary_accuracy: 0.8098 - val_loss: 0.5606 - val_binary_accuracy: 0.7391\n",
            "Epoch 48/500\n",
            "13/13 [==============================] - 0s 13ms/step - loss: 0.4571 - binary_accuracy: 0.8220 - val_loss: 0.5518 - val_binary_accuracy: 0.7174\n",
            "Epoch 49/500\n",
            "13/13 [==============================] - 0s 20ms/step - loss: 0.4590 - binary_accuracy: 0.8317 - val_loss: 0.5586 - val_binary_accuracy: 0.6957\n",
            "Epoch 50/500\n",
            "13/13 [==============================] - 0s 18ms/step - loss: 0.4561 - binary_accuracy: 0.8146 - val_loss: 0.5778 - val_binary_accuracy: 0.7174\n",
            "Epoch 51/500\n",
            "13/13 [==============================] - 0s 17ms/step - loss: 0.4494 - binary_accuracy: 0.8293 - val_loss: 0.5448 - val_binary_accuracy: 0.7174\n",
            "Epoch 52/500\n",
            "13/13 [==============================] - 0s 15ms/step - loss: 0.4452 - binary_accuracy: 0.8341 - val_loss: 0.5467 - val_binary_accuracy: 0.7174\n",
            "Epoch 53/500\n",
            "13/13 [==============================] - 0s 17ms/step - loss: 0.4379 - binary_accuracy: 0.8366 - val_loss: 0.5569 - val_binary_accuracy: 0.7609\n",
            "Epoch 54/500\n",
            "13/13 [==============================] - 0s 17ms/step - loss: 0.4366 - binary_accuracy: 0.8293 - val_loss: 0.5397 - val_binary_accuracy: 0.7609\n",
            "Epoch 55/500\n",
            "13/13 [==============================] - 0s 18ms/step - loss: 0.4317 - binary_accuracy: 0.8390 - val_loss: 0.5376 - val_binary_accuracy: 0.7609\n",
            "Epoch 56/500\n",
            "13/13 [==============================] - 0s 13ms/step - loss: 0.4222 - binary_accuracy: 0.8512 - val_loss: 0.5545 - val_binary_accuracy: 0.7609\n",
            "Epoch 57/500\n",
            "13/13 [==============================] - 0s 13ms/step - loss: 0.4243 - binary_accuracy: 0.8488 - val_loss: 0.5384 - val_binary_accuracy: 0.7174\n",
            "Epoch 58/500\n",
            "13/13 [==============================] - 0s 13ms/step - loss: 0.4167 - binary_accuracy: 0.8488 - val_loss: 0.5317 - val_binary_accuracy: 0.7609\n",
            "Epoch 59/500\n",
            "13/13 [==============================] - 0s 19ms/step - loss: 0.4133 - binary_accuracy: 0.8439 - val_loss: 0.5336 - val_binary_accuracy: 0.7174\n",
            "Epoch 60/500\n",
            "13/13 [==============================] - 0s 12ms/step - loss: 0.4107 - binary_accuracy: 0.8512 - val_loss: 0.5390 - val_binary_accuracy: 0.6957\n",
            "Epoch 61/500\n",
            "13/13 [==============================] - 0s 17ms/step - loss: 0.4070 - binary_accuracy: 0.8610 - val_loss: 0.5338 - val_binary_accuracy: 0.7826\n",
            "Epoch 62/500\n",
            "13/13 [==============================] - 0s 14ms/step - loss: 0.4029 - binary_accuracy: 0.8585 - val_loss: 0.5271 - val_binary_accuracy: 0.7391\n",
            "Epoch 63/500\n",
            "13/13 [==============================] - 0s 15ms/step - loss: 0.4045 - binary_accuracy: 0.8634 - val_loss: 0.5410 - val_binary_accuracy: 0.6957\n",
            "Epoch 64/500\n",
            "13/13 [==============================] - 0s 25ms/step - loss: 0.4007 - binary_accuracy: 0.8732 - val_loss: 0.5255 - val_binary_accuracy: 0.7826\n",
            "Epoch 65/500\n",
            "13/13 [==============================] - 0s 17ms/step - loss: 0.3938 - binary_accuracy: 0.8610 - val_loss: 0.5446 - val_binary_accuracy: 0.7391\n",
            "Epoch 66/500\n",
            "13/13 [==============================] - 0s 29ms/step - loss: 0.3892 - binary_accuracy: 0.8610 - val_loss: 0.5228 - val_binary_accuracy: 0.7391\n",
            "Epoch 67/500\n",
            "13/13 [==============================] - 0s 14ms/step - loss: 0.3966 - binary_accuracy: 0.8610 - val_loss: 0.5290 - val_binary_accuracy: 0.6957\n",
            "Epoch 68/500\n",
            "13/13 [==============================] - 0s 13ms/step - loss: 0.3818 - binary_accuracy: 0.8634 - val_loss: 0.5368 - val_binary_accuracy: 0.6739\n",
            "Epoch 69/500\n",
            "13/13 [==============================] - 0s 11ms/step - loss: 0.3928 - binary_accuracy: 0.8659 - val_loss: 0.5258 - val_binary_accuracy: 0.7174\n",
            "Epoch 70/500\n",
            "13/13 [==============================] - 0s 11ms/step - loss: 0.3789 - binary_accuracy: 0.8659 - val_loss: 0.5123 - val_binary_accuracy: 0.8043\n",
            "Epoch 71/500\n",
            "13/13 [==============================] - 0s 11ms/step - loss: 0.3880 - binary_accuracy: 0.8463 - val_loss: 0.5510 - val_binary_accuracy: 0.7391\n",
            "Epoch 72/500\n",
            "13/13 [==============================] - 0s 11ms/step - loss: 0.3932 - binary_accuracy: 0.8537 - val_loss: 0.5233 - val_binary_accuracy: 0.7609\n",
            "Epoch 73/500\n",
            "13/13 [==============================] - 0s 13ms/step - loss: 0.3598 - binary_accuracy: 0.8951 - val_loss: 0.5105 - val_binary_accuracy: 0.8043\n",
            "Epoch 74/500\n",
            "13/13 [==============================] - 0s 13ms/step - loss: 0.3574 - binary_accuracy: 0.8927 - val_loss: 0.5109 - val_binary_accuracy: 0.8261\n",
            "Epoch 75/500\n",
            "13/13 [==============================] - 0s 11ms/step - loss: 0.3555 - binary_accuracy: 0.8951 - val_loss: 0.5257 - val_binary_accuracy: 0.7609\n",
            "Epoch 76/500\n",
            "13/13 [==============================] - 0s 12ms/step - loss: 0.3561 - binary_accuracy: 0.8902 - val_loss: 0.5136 - val_binary_accuracy: 0.8043\n",
            "Epoch 77/500\n",
            "13/13 [==============================] - 0s 12ms/step - loss: 0.3512 - binary_accuracy: 0.8902 - val_loss: 0.5152 - val_binary_accuracy: 0.7174\n",
            "Epoch 78/500\n",
            "13/13 [==============================] - 0s 12ms/step - loss: 0.3561 - binary_accuracy: 0.8756 - val_loss: 0.5357 - val_binary_accuracy: 0.6739\n",
            "Epoch 79/500\n",
            "13/13 [==============================] - 0s 12ms/step - loss: 0.3589 - binary_accuracy: 0.8707 - val_loss: 0.5073 - val_binary_accuracy: 0.7391\n",
            "Epoch 80/500\n",
            "13/13 [==============================] - 0s 11ms/step - loss: 0.3505 - binary_accuracy: 0.8805 - val_loss: 0.5026 - val_binary_accuracy: 0.7609\n",
            "Epoch 81/500\n",
            "13/13 [==============================] - 0s 10ms/step - loss: 0.3415 - binary_accuracy: 0.9146 - val_loss: 0.5056 - val_binary_accuracy: 0.7609\n",
            "Epoch 82/500\n",
            "13/13 [==============================] - 0s 7ms/step - loss: 0.3307 - binary_accuracy: 0.9098 - val_loss: 0.5121 - val_binary_accuracy: 0.7826\n",
            "Epoch 83/500\n",
            "13/13 [==============================] - 0s 9ms/step - loss: 0.3246 - binary_accuracy: 0.9146 - val_loss: 0.5099 - val_binary_accuracy: 0.8043\n",
            "Epoch 84/500\n",
            "13/13 [==============================] - 0s 8ms/step - loss: 0.3302 - binary_accuracy: 0.9171 - val_loss: 0.5016 - val_binary_accuracy: 0.8043\n",
            "Epoch 85/500\n",
            "13/13 [==============================] - 0s 9ms/step - loss: 0.3202 - binary_accuracy: 0.9244 - val_loss: 0.5057 - val_binary_accuracy: 0.8043\n",
            "Epoch 86/500\n",
            "13/13 [==============================] - 0s 9ms/step - loss: 0.3118 - binary_accuracy: 0.9195 - val_loss: 0.5098 - val_binary_accuracy: 0.7826\n",
            "Epoch 87/500\n",
            "13/13 [==============================] - 0s 9ms/step - loss: 0.3118 - binary_accuracy: 0.9244 - val_loss: 0.4929 - val_binary_accuracy: 0.7609\n",
            "Epoch 88/500\n",
            "13/13 [==============================] - 0s 9ms/step - loss: 0.3041 - binary_accuracy: 0.9195 - val_loss: 0.5011 - val_binary_accuracy: 0.8261\n",
            "Epoch 89/500\n",
            "13/13 [==============================] - 0s 10ms/step - loss: 0.3046 - binary_accuracy: 0.9293 - val_loss: 0.5234 - val_binary_accuracy: 0.7391\n",
            "Epoch 90/500\n",
            "13/13 [==============================] - 0s 8ms/step - loss: 0.3076 - binary_accuracy: 0.9293 - val_loss: 0.4947 - val_binary_accuracy: 0.8043\n",
            "Epoch 91/500\n",
            "13/13 [==============================] - 0s 8ms/step - loss: 0.2949 - binary_accuracy: 0.9293 - val_loss: 0.4901 - val_binary_accuracy: 0.7826\n",
            "Epoch 92/500\n",
            "13/13 [==============================] - 0s 9ms/step - loss: 0.2905 - binary_accuracy: 0.9415 - val_loss: 0.5065 - val_binary_accuracy: 0.8043\n",
            "Epoch 93/500\n",
            "13/13 [==============================] - 0s 9ms/step - loss: 0.2990 - binary_accuracy: 0.9220 - val_loss: 0.4988 - val_binary_accuracy: 0.8043\n",
            "Epoch 94/500\n",
            "13/13 [==============================] - 0s 9ms/step - loss: 0.2858 - binary_accuracy: 0.9415 - val_loss: 0.5032 - val_binary_accuracy: 0.8043\n",
            "Epoch 95/500\n",
            "13/13 [==============================] - 0s 9ms/step - loss: 0.2810 - binary_accuracy: 0.9439 - val_loss: 0.4998 - val_binary_accuracy: 0.8261\n",
            "Epoch 96/500\n",
            "13/13 [==============================] - 0s 8ms/step - loss: 0.2858 - binary_accuracy: 0.9390 - val_loss: 0.5010 - val_binary_accuracy: 0.8043\n",
            "Epoch 97/500\n",
            "13/13 [==============================] - 0s 8ms/step - loss: 0.2747 - binary_accuracy: 0.9512 - val_loss: 0.4937 - val_binary_accuracy: 0.8261\n",
            "Epoch 98/500\n",
            "13/13 [==============================] - 0s 9ms/step - loss: 0.2715 - binary_accuracy: 0.9390 - val_loss: 0.4908 - val_binary_accuracy: 0.7609\n",
            "Epoch 99/500\n",
            "13/13 [==============================] - 0s 8ms/step - loss: 0.2755 - binary_accuracy: 0.9439 - val_loss: 0.5045 - val_binary_accuracy: 0.7391\n",
            "Epoch 100/500\n",
            "13/13 [==============================] - 0s 9ms/step - loss: 0.2802 - binary_accuracy: 0.9195 - val_loss: 0.5006 - val_binary_accuracy: 0.7609\n",
            "Epoch 101/500\n",
            "13/13 [==============================] - 0s 8ms/step - loss: 0.2694 - binary_accuracy: 0.9463 - val_loss: 0.4862 - val_binary_accuracy: 0.7609\n",
            "Epoch 102/500\n",
            "13/13 [==============================] - 0s 8ms/step - loss: 0.2613 - binary_accuracy: 0.9439 - val_loss: 0.5044 - val_binary_accuracy: 0.7826\n",
            "Epoch 103/500\n",
            "13/13 [==============================] - 0s 8ms/step - loss: 0.2555 - binary_accuracy: 0.9488 - val_loss: 0.4865 - val_binary_accuracy: 0.8261\n",
            "Epoch 104/500\n",
            "13/13 [==============================] - 0s 8ms/step - loss: 0.2693 - binary_accuracy: 0.9293 - val_loss: 0.4929 - val_binary_accuracy: 0.7391\n",
            "Epoch 105/500\n",
            "13/13 [==============================] - 0s 10ms/step - loss: 0.2547 - binary_accuracy: 0.9439 - val_loss: 0.4874 - val_binary_accuracy: 0.7609\n",
            "Epoch 106/500\n",
            "13/13 [==============================] - 0s 10ms/step - loss: 0.2487 - binary_accuracy: 0.9634 - val_loss: 0.4899 - val_binary_accuracy: 0.8261\n",
            "Epoch 107/500\n",
            "13/13 [==============================] - 0s 8ms/step - loss: 0.2426 - binary_accuracy: 0.9610 - val_loss: 0.4884 - val_binary_accuracy: 0.8261\n",
            "Epoch 108/500\n",
            "13/13 [==============================] - 0s 8ms/step - loss: 0.2411 - binary_accuracy: 0.9634 - val_loss: 0.4851 - val_binary_accuracy: 0.7391\n",
            "Epoch 109/500\n",
            "13/13 [==============================] - 0s 9ms/step - loss: 0.2356 - binary_accuracy: 0.9683 - val_loss: 0.4932 - val_binary_accuracy: 0.8043\n",
            "Epoch 110/500\n",
            "13/13 [==============================] - 0s 8ms/step - loss: 0.2380 - binary_accuracy: 0.9659 - val_loss: 0.4856 - val_binary_accuracy: 0.8043\n",
            "Epoch 111/500\n",
            "13/13 [==============================] - 0s 10ms/step - loss: 0.2310 - binary_accuracy: 0.9707 - val_loss: 0.4821 - val_binary_accuracy: 0.7826\n",
            "Epoch 112/500\n",
            "13/13 [==============================] - 0s 8ms/step - loss: 0.2323 - binary_accuracy: 0.9683 - val_loss: 0.4848 - val_binary_accuracy: 0.7391\n",
            "Epoch 113/500\n",
            "13/13 [==============================] - 0s 9ms/step - loss: 0.2343 - binary_accuracy: 0.9561 - val_loss: 0.4926 - val_binary_accuracy: 0.7609\n",
            "Epoch 114/500\n",
            "13/13 [==============================] - 0s 8ms/step - loss: 0.2380 - binary_accuracy: 0.9610 - val_loss: 0.4996 - val_binary_accuracy: 0.7609\n",
            "Epoch 115/500\n",
            "13/13 [==============================] - 0s 9ms/step - loss: 0.2240 - binary_accuracy: 0.9756 - val_loss: 0.4810 - val_binary_accuracy: 0.7826\n",
            "Epoch 116/500\n",
            "13/13 [==============================] - 0s 11ms/step - loss: 0.2194 - binary_accuracy: 0.9780 - val_loss: 0.4864 - val_binary_accuracy: 0.7391\n",
            "Epoch 117/500\n",
            "13/13 [==============================] - 0s 8ms/step - loss: 0.2224 - binary_accuracy: 0.9634 - val_loss: 0.4848 - val_binary_accuracy: 0.7826\n",
            "Epoch 118/500\n",
            "13/13 [==============================] - 0s 9ms/step - loss: 0.2149 - binary_accuracy: 0.9732 - val_loss: 0.4860 - val_binary_accuracy: 0.7391\n",
            "Epoch 119/500\n",
            "13/13 [==============================] - 0s 9ms/step - loss: 0.2159 - binary_accuracy: 0.9659 - val_loss: 0.5000 - val_binary_accuracy: 0.7609\n",
            "Epoch 120/500\n",
            "13/13 [==============================] - 0s 10ms/step - loss: 0.2139 - binary_accuracy: 0.9805 - val_loss: 0.4820 - val_binary_accuracy: 0.7826\n",
            "Epoch 121/500\n",
            "13/13 [==============================] - 0s 9ms/step - loss: 0.2051 - binary_accuracy: 0.9829 - val_loss: 0.4832 - val_binary_accuracy: 0.7826\n",
            "Epoch 122/500\n",
            "13/13 [==============================] - 0s 8ms/step - loss: 0.2065 - binary_accuracy: 0.9707 - val_loss: 0.4809 - val_binary_accuracy: 0.7826\n",
            "Epoch 123/500\n",
            "13/13 [==============================] - 0s 8ms/step - loss: 0.2052 - binary_accuracy: 0.9756 - val_loss: 0.4828 - val_binary_accuracy: 0.7826\n",
            "Epoch 124/500\n",
            "13/13 [==============================] - 0s 8ms/step - loss: 0.1982 - binary_accuracy: 0.9805 - val_loss: 0.4816 - val_binary_accuracy: 0.7826\n",
            "Epoch 125/500\n",
            "13/13 [==============================] - 0s 8ms/step - loss: 0.1986 - binary_accuracy: 0.9756 - val_loss: 0.4825 - val_binary_accuracy: 0.7609\n",
            "Epoch 126/500\n",
            "13/13 [==============================] - 0s 9ms/step - loss: 0.1919 - binary_accuracy: 0.9805 - val_loss: 0.5002 - val_binary_accuracy: 0.7826\n",
            "Epoch 127/500\n",
            "13/13 [==============================] - 0s 9ms/step - loss: 0.1929 - binary_accuracy: 0.9805 - val_loss: 0.4850 - val_binary_accuracy: 0.7826\n",
            "Epoch 128/500\n",
            "13/13 [==============================] - 0s 7ms/step - loss: 0.1867 - binary_accuracy: 0.9854 - val_loss: 0.4923 - val_binary_accuracy: 0.8043\n",
            "Epoch 129/500\n",
            "13/13 [==============================] - 0s 9ms/step - loss: 0.1850 - binary_accuracy: 0.9854 - val_loss: 0.4992 - val_binary_accuracy: 0.7391\n",
            "Epoch 130/500\n",
            "13/13 [==============================] - 0s 10ms/step - loss: 0.1871 - binary_accuracy: 0.9854 - val_loss: 0.4838 - val_binary_accuracy: 0.7391\n",
            "Epoch 131/500\n",
            "13/13 [==============================] - 0s 9ms/step - loss: 0.1831 - binary_accuracy: 0.9854 - val_loss: 0.4835 - val_binary_accuracy: 0.7391\n",
            "Epoch 132/500\n",
            "13/13 [==============================] - 0s 10ms/step - loss: 0.1774 - binary_accuracy: 0.9878 - val_loss: 0.4903 - val_binary_accuracy: 0.8043\n",
            "Epoch 133/500\n",
            "13/13 [==============================] - 0s 8ms/step - loss: 0.1774 - binary_accuracy: 0.9902 - val_loss: 0.4813 - val_binary_accuracy: 0.7826\n",
            "Epoch 134/500\n",
            "13/13 [==============================] - 0s 8ms/step - loss: 0.1744 - binary_accuracy: 0.9878 - val_loss: 0.4854 - val_binary_accuracy: 0.7826\n",
            "Epoch 135/500\n",
            "13/13 [==============================] - 0s 9ms/step - loss: 0.1715 - binary_accuracy: 0.9902 - val_loss: 0.4889 - val_binary_accuracy: 0.7391\n"
          ]
        }
      ]
    },
    {
      "cell_type": "code",
      "source": [
        "history_df = pd.DataFrame(history.history)\n",
        "history_df.loc[:, ['loss', 'val_loss']].plot(title=\"Cross-entropy\")\n",
        "history_df.loc[:, ['binary_accuracy', 'val_binary_accuracy']].plot(title=\"Accuracy\")"
      ],
      "metadata": {
        "id": "8XFfg15CseNa",
        "colab": {
          "base_uri": "https://localhost:8080/",
          "height": 562
        },
        "outputId": "beec439c-71b4-40b8-f5f0-29f02f2e5b8f"
      },
      "execution_count": 9,
      "outputs": [
        {
          "output_type": "execute_result",
          "data": {
            "text/plain": [
              "<Axes: title={'center': 'Accuracy'}>"
            ]
          },
          "metadata": {},
          "execution_count": 9
        },
        {
          "output_type": "display_data",
          "data": {
            "text/plain": [
              "<Figure size 432x288 with 1 Axes>"
            ],
            "image/png": "[encoded data removed]"
          },
          "metadata": {
            "needs_background": "light"
          }
        },
        {
          "output_type": "display_data",
          "data": {
            "text/plain": [
              "<Figure size 432x288 with 1 Axes>"
            ],
            "image/png": "[encoded data removed]"
          },
          "metadata": {
            "needs_background": "light"
          }
        }
      ]
    },
    {
      "cell_type": "markdown",
      "source": [
        "While training accuracy is more than 90 percent, validation accuracy settles close to 70 percent"
      ],
      "metadata": {
        "id": "MPYVppLnz8M5"
      }
    }
  ]
}